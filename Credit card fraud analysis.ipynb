{
 "cells": [
  {
   "cell_type": "markdown",
   "id": "40836f78",
   "metadata": {},
   "source": [
    "# Data Science Project: Credit Card Fraud Detection"
   ]
  },
  {
   "cell_type": "markdown",
   "id": "4a551300",
   "metadata": {},
   "source": [
    "Credit card fraud is the most common type of identity theft. With an estimated 1.5 billion credit cards in the U.S. alone, it’s no surprise that millions of people fall as victims every year ([Brex](https://www.brex.com/learn/fraud-security/what-is-credit-card-fraud/)).\n",
    "\n",
    "It is not a challenging problem only for credit cardholders, but also for banks, government, insurance companies, the public sector, sales, and healthcare. \n",
    "\n",
    "In this scenario, machine learning plays an essential role in fraud detection. It uses supervised methods (logistic regression, decision trees, random forest, time-series analysis, etc.) and unsupervised methods (cluster analysis, principal component analysis, etc.) to accurately predict when a fraud transaction occurs in the system so that customers are not charged for items that they did not purchase.  "
   ]
  },
  {
   "cell_type": "markdown",
   "id": "744ebb69",
   "metadata": {},
   "source": [
    "This project is intended to analyse a [data set](https://www.kaggle.com/datasets/mlg-ulb/creditcardfraud) that contains transactions made by credit cards in September 2013 by European cardholders.\n",
    "\n"
   ]
  },
  {
   "cell_type": "markdown",
   "id": "656af5a7",
   "metadata": {},
   "source": [
    "# Import libraries and read the data set"
   ]
  },
  {
   "cell_type": "code",
   "execution_count": 1,
   "id": "70e668b7",
   "metadata": {},
   "outputs": [
    {
     "name": "stdout",
     "output_type": "stream",
     "text": [
      "   Time        V1        V2        V3        V4        V5        V6        V7  \\\n",
      "0   0.0 -1.359807 -0.072781  2.536347  1.378155 -0.338321  0.462388  0.239599   \n",
      "1   0.0  1.191857  0.266151  0.166480  0.448154  0.060018 -0.082361 -0.078803   \n",
      "2   1.0 -1.358354 -1.340163  1.773209  0.379780 -0.503198  1.800499  0.791461   \n",
      "3   1.0 -0.966272 -0.185226  1.792993 -0.863291 -0.010309  1.247203  0.237609   \n",
      "4   2.0 -1.158233  0.877737  1.548718  0.403034 -0.407193  0.095921  0.592941   \n",
      "\n",
      "         V8        V9  ...       V21       V22       V23       V24       V25  \\\n",
      "0  0.098698  0.363787  ... -0.018307  0.277838 -0.110474  0.066928  0.128539   \n",
      "1  0.085102 -0.255425  ... -0.225775 -0.638672  0.101288 -0.339846  0.167170   \n",
      "2  0.247676 -1.514654  ...  0.247998  0.771679  0.909412 -0.689281 -0.327642   \n",
      "3  0.377436 -1.387024  ... -0.108300  0.005274 -0.190321 -1.175575  0.647376   \n",
      "4 -0.270533  0.817739  ... -0.009431  0.798278 -0.137458  0.141267 -0.206010   \n",
      "\n",
      "        V26       V27       V28  Amount  Class  \n",
      "0 -0.189115  0.133558 -0.021053  149.62      0  \n",
      "1  0.125895 -0.008983  0.014724    2.69      0  \n",
      "2 -0.139097 -0.055353 -0.059752  378.66      0  \n",
      "3 -0.221929  0.062723  0.061458  123.50      0  \n",
      "4  0.502292  0.219422  0.215153   69.99      0  \n",
      "\n",
      "[5 rows x 31 columns]\n"
     ]
    }
   ],
   "source": [
    "import pandas as pd\n",
    "import numpy as np \n",
    "from numpy import where\n",
    "\n",
    "from matplotlib import pyplot as plt\n",
    "import seaborn as sns\n",
    "\n",
    "from sklearn import metrics\n",
    "from sklearn import preprocessing\n",
    "from sklearn import model_selection\n",
    "from sklearn.metrics import classification_report, confusion_matrix, roc_curve, roc_auc_score,auc, accuracy_score\n",
    "\n",
    "from sklearn.linear_model import LogisticRegression\n",
    "\n",
    "from sklearn.model_selection import train_test_split\n",
    "\n",
    "from IPython.core.display import HTML \n",
    "\n",
    "credit_card = pd.read_csv(\"creditcard.csv\")\n",
    "print(credit_card.head(5))"
   ]
  },
  {
   "cell_type": "markdown",
   "id": "15485dae",
   "metadata": {},
   "source": [
    "# Exploratory Data Analysis"
   ]
  },
  {
   "cell_type": "code",
   "execution_count": 2,
   "id": "c31166ac",
   "metadata": {},
   "outputs": [
    {
     "name": "stdout",
     "output_type": "stream",
     "text": [
      "<class 'pandas.core.frame.DataFrame'>\n",
      "RangeIndex: 284807 entries, 0 to 284806\n",
      "Data columns (total 31 columns):\n",
      " #   Column  Non-Null Count   Dtype  \n",
      "---  ------  --------------   -----  \n",
      " 0   Time    284807 non-null  float64\n",
      " 1   V1      284807 non-null  float64\n",
      " 2   V2      284807 non-null  float64\n",
      " 3   V3      284807 non-null  float64\n",
      " 4   V4      284807 non-null  float64\n",
      " 5   V5      284807 non-null  float64\n",
      " 6   V6      284807 non-null  float64\n",
      " 7   V7      284807 non-null  float64\n",
      " 8   V8      284807 non-null  float64\n",
      " 9   V9      284807 non-null  float64\n",
      " 10  V10     284807 non-null  float64\n",
      " 11  V11     284807 non-null  float64\n",
      " 12  V12     284807 non-null  float64\n",
      " 13  V13     284807 non-null  float64\n",
      " 14  V14     284807 non-null  float64\n",
      " 15  V15     284807 non-null  float64\n",
      " 16  V16     284807 non-null  float64\n",
      " 17  V17     284807 non-null  float64\n",
      " 18  V18     284807 non-null  float64\n",
      " 19  V19     284807 non-null  float64\n",
      " 20  V20     284807 non-null  float64\n",
      " 21  V21     284807 non-null  float64\n",
      " 22  V22     284807 non-null  float64\n",
      " 23  V23     284807 non-null  float64\n",
      " 24  V24     284807 non-null  float64\n",
      " 25  V25     284807 non-null  float64\n",
      " 26  V26     284807 non-null  float64\n",
      " 27  V27     284807 non-null  float64\n",
      " 28  V28     284807 non-null  float64\n",
      " 29  Amount  284807 non-null  float64\n",
      " 30  Class   284807 non-null  int64  \n",
      "dtypes: float64(30), int64(1)\n",
      "memory usage: 67.4 MB\n",
      "None\n",
      "284807\n"
     ]
    }
   ],
   "source": [
    "print(credit_card.info())\n",
    "print(len(credit_card))"
   ]
  },
  {
   "cell_type": "markdown",
   "id": "c5f6476b",
   "metadata": {},
   "source": [
    "As we can see above, the data set contains 284807 rows and 31 columns.The column V1 until V28 are the principal components obtained from a PCA transformation to preserve confidentiality. The column \"Amount\" represents the transaction amount. Finally, the column \"Class\" shows whether the transaction was a fraud (1) or not (0). "
   ]
  },
  {
   "cell_type": "code",
   "execution_count": 3,
   "id": "8384474b",
   "metadata": {},
   "outputs": [
    {
     "name": "stdout",
     "output_type": "stream",
     "text": [
      "0    284315\n",
      "1       492\n",
      "Name: Class, dtype: int64\n"
     ]
    }
   ],
   "source": [
    "# Calculating the number of frauds and non-frauds in our data set\n",
    "\n",
    "fraud_count = credit_card['Class'].value_counts()\n",
    "print(fraud_count)"
   ]
  },
  {
   "cell_type": "code",
   "execution_count": 4,
   "id": "edd5b343",
   "metadata": {},
   "outputs": [
    {
     "data": {
      "image/png": "[encoded data removed]",
      "text/plain": [
       "<Figure size 432x288 with 1 Axes>"
      ]
     },
     "metadata": {
      "needs_background": "light"
     },
     "output_type": "display_data"
    }
   ],
   "source": [
    "# plotting the fraud and non-fraud data points\n",
    "\n",
    "def prep_data(df):\n",
    "    X = df.iloc[:, 1:28]\n",
    "    X = np.array(X).astype(float)\n",
    "    y = df.iloc[:, 29]\n",
    "    y = np.array(y).astype(int)\n",
    "    return X, y\n",
    "\n",
    "def plot_data(X, y):\n",
    "    plt.scatter(X[y==0, 0], X[y==0, 1], label='Class #0', alpha=0.5, linewidth=0.15)\n",
    "    plt.scatter(X[y==1, 0], X[y==1, 1], label='Class #1', alpha=0.5, linewidth=0.15, c='r')\n",
    "    plt.legend()\n",
    "    return plt.show()\n",
    "\n",
    "X, y = prep_data(credit_card)\n",
    "\n",
    "plot_data(X, y)"
   ]
  },
  {
   "cell_type": "code",
   "execution_count": 5,
   "id": "f3d3b516",
   "metadata": {},
   "outputs": [
    {
     "data": {
      "image/png": "[encoded data removed]",
      "text/plain": [
       "<Figure size 432x288 with 1 Axes>"
      ]
     },
     "metadata": {
      "needs_background": "light"
     },
     "output_type": "display_data"
    }
   ],
   "source": [
    "# plotting with a different method\n",
    "# scatter plot of examples by class label\n",
    "for label, _ in fraud_count.items():\n",
    "    row_ix = where(y == label)[0]\n",
    "    plt.scatter(X[row_ix, 0], X[row_ix, 1], label=str(label))\n",
    "plt.legend()\n",
    "plt.show()"
   ]
  },
  {
   "cell_type": "markdown",
   "id": "36d681ef",
   "metadata": {},
   "source": [
    "As the amount of fraudulent transactions is much less than the non-fraudulent ones. For this imbalanced classification, I'll be using SMOTE, short name for Synthetic Minority Oversampling Technique ([Reference](https://machinelearningmastery.com/smote-oversampling-for-imbalanced-classification/)) for the minority class. "
   ]
  },
  {
   "cell_type": "code",
   "execution_count": 20,
   "id": "2df75991",
   "metadata": {},
   "outputs": [],
   "source": [
    "from sklearn.model_selection import train_test_split\n",
    "\n",
    "X = credit_card.drop(['Class'], axis=1)\n",
    "y = credit_card.Class\n",
    "X_train, X_test, y_train, y_test = train_test_split(X, y, test_size=0.4, random_state=1)"
   ]
  },
  {
   "cell_type": "code",
   "execution_count": 21,
   "id": "52eadeeb",
   "metadata": {},
   "outputs": [
    {
     "name": "stdout",
     "output_type": "stream",
     "text": [
      "Before Counter({0: 170578, 1: 306})\n",
      "After Counter({0: 170578, 1: 170578})\n"
     ]
    }
   ],
   "source": [
    "from imblearn.over_sampling import SMOTE\n",
    "from collections import Counter\n",
    "\n",
    "counter = Counter(y_train)\n",
    "print('Before', counter)\n",
    "#oversampling the train data set using SMOTE\n",
    "smote = SMOTE()\n",
    "X_train_sm, y_train_sm = smote.fit_resample(X_train, y_train)\n",
    "\n",
    "counter = Counter(y_train_sm)\n",
    "print('After', counter)"
   ]
  },
  {
   "cell_type": "markdown",
   "id": "976e3e56",
   "metadata": {},
   "source": [
    "The SMOTE method has balanced our data, and now the minority class is equaly large as the majority class."
   ]
  },
  {
   "cell_type": "markdown",
   "id": "cd2c4e6b",
   "metadata": {},
   "source": [
    "# Implementing Logistic Regression"
   ]
  },
  {
   "cell_type": "code",
   "execution_count": 22,
   "id": "1c4fe390",
   "metadata": {},
   "outputs": [
    {
     "name": "stdout",
     "output_type": "stream",
     "text": [
      "Flagged Fraud       0     1\n",
      "Actual Fraud               \n",
      "0              111888  1849\n",
      "1                  25   161\n"
     ]
    }
   ],
   "source": [
    "from imblearn.pipeline import Pipeline\n",
    "\n",
    "# Defining which resampling method and which ML model to use in the pipeline\n",
    "resampling = SMOTE()\n",
    "lr = LogisticRegression()\n",
    "\n",
    "pipeline = Pipeline([('SMOTE', resampling), ('Logistic Regression', lr)])\n",
    "pipeline.fit(X_train, y_train)\n",
    "predictions = pipeline.predict(X_test)\n",
    "print(pd.crosstab(y_test, predictions, rownames=['Actual Fraud'], colnames=['Flagged Fraud']))"
   ]
  },
  {
   "cell_type": "markdown",
   "id": "e9e51990",
   "metadata": {},
   "source": [
    "# Conclusion"
   ]
  },
  {
   "cell_type": "markdown",
   "id": "d5eb297f",
   "metadata": {},
   "source": [
    "In conclusion, our Logistic Regression model was able to capture 161 out of 186 fraudulent cases, giving us 86.56% of accuracy. One challenge that fraud detection models are facing is that frauds are constantly changing so that they can go unnoticed on the system."
   ]
  },
  {
   "cell_type": "code",
   "execution_count": null,
   "id": "7205dd2e",
   "metadata": {},
   "outputs": [],
   "source": []
  }
 ],
 "metadata": {
  "kernelspec": {
   "display_name": "Python 3",
   "language": "python",
   "name": "python3"
  },
  "language_info": {
   "codemirror_mode": {
    "name": "ipython",
    "version": 3
   },
   "file_extension": ".py",
   "mimetype": "text/x-python",
   "name": "python",
   "nbconvert_exporter": "python",
   "pygments_lexer": "ipython3",
   "version": "3.8.8"
  }
 },
 "nbformat": 4,
 "nbformat_minor": 5
}
